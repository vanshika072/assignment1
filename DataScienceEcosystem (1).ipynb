{
 "cells": [
  {
   "cell_type": "code",
   "execution_count": null,
   "id": "8c7ce710",
   "metadata": {},
   "outputs": [],
   "source": [
    "  # H1: Data Science Tools and Ecosystem"
   ]
  },
  {
   "cell_type": "code",
   "execution_count": null,
   "id": "4be16ea7",
   "metadata": {},
   "outputs": [],
   "source": [
    "# This notebook contains information about Data Science Tools and Ecosystem."
   ]
  },
  {
   "cell_type": "code",
   "execution_count": null,
   "id": "29fa446b",
   "metadata": {},
   "outputs": [],
   "source": [
    "# Some of the popular languages that Data Scientists use are:\n",
    "1. Python\n",
    "2. SQL\n",
    "3. R\n",
    "4. Julia"
   ]
  },
  {
   "cell_type": "code",
   "execution_count": null,
   "id": "2d461d59",
   "metadata": {},
   "outputs": [],
   "source": [
    "# Some of the commonly used libraries used by Data Scientists include:\n",
    "1. Scala libraries\n",
    "2. Visualization libraries\n",
    "3. High level Machine Learning and Deep Learning \n",
    "4. Deep learning libraries\n"
   ]
  },
  {
   "cell_type": "markdown",
   "id": "975c4e22",
   "metadata": {},
   "source": [
    "|Data Science Tools|\n",
    "|------------------|\n",
    "|Relation Database|\n",
    "|Tensor Flow|\n",
    "|Apache Nifi| "
   ]
  },
  {
   "cell_type": "markdown",
   "id": "a6cf5cbe",
   "metadata": {},
   "source": [
    "# H3: Below are a few examples of evaluating arithmetic expressions in Python.\n",
    "a=4\n",
    "b=2\n",
    "print(a+b)\n",
    "print(a-b)\n",
    "print(a*b)\n",
    "print(a/b)"
   ]
  },
  {
   "cell_type": "code",
   "execution_count": 3,
   "id": "dfe80dd0",
   "metadata": {},
   "outputs": [
    {
     "data": {
      "text/plain": [
       "17"
      ]
     },
     "execution_count": 3,
     "metadata": {},
     "output_type": "execute_result"
    }
   ],
   "source": [
    "# This a simple arithmetic expression to mutiply then add integers.\n",
    "(3*4)+5"
   ]
  },
  {
   "cell_type": "code",
   "execution_count": 4,
   "id": "163acf7f",
   "metadata": {},
   "outputs": [
    {
     "data": {
      "text/plain": [
       "3.3333333333333335"
      ]
     },
     "execution_count": 4,
     "metadata": {},
     "output_type": "execute_result"
    }
   ],
   "source": [
    "# This will convert 200 minutes to hours by diving by 60.\n",
    "200/60"
   ]
  },
  {
   "cell_type": "code",
   "execution_count": null,
   "id": "715ddffd",
   "metadata": {},
   "outputs": [],
   "source": [
    "# This notebook contains information about Data Science Tools and Ecosystem"
   ]
  },
  {
   "cell_type": "markdown",
   "id": "1d434b8f",
   "metadata": {},
   "source": [
    "**Objectives:**\n",
    "- Categories of Data Science Tools\n",
    "- Popular languages used in Data Science\n",
    "- Categories of libraries of Data science\n",
    "- List the popular APIs used in Data Science"
   ]
  },
  {
   "cell_type": "markdown",
   "id": "af5bd3e0",
   "metadata": {},
   "source": [
    "# H2: Author\n",
    "      Vanshika Gupta"
   ]
  },
  {
   "cell_type": "code",
   "execution_count": null,
   "id": "01007020",
   "metadata": {},
   "outputs": [],
   "source": []
  },
  {
   "cell_type": "code",
   "execution_count": null,
   "id": "745d5964",
   "metadata": {},
   "outputs": [],
   "source": []
  }
 ],
 "metadata": {
  "kernelspec": {
   "display_name": "Python 3 (ipykernel)",
   "language": "python",
   "name": "python3"
  },
  "language_info": {
   "codemirror_mode": {
    "name": "ipython",
    "version": 3
   },
   "file_extension": ".py",
   "mimetype": "text/x-python",
   "name": "python",
   "nbconvert_exporter": "python",
   "pygments_lexer": "ipython3",
   "version": "3.11.3"
  }
 },
 "nbformat": 4,
 "nbformat_minor": 5
}
